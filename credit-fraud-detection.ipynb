{
 "cells": [
  {
   "cell_type": "code",
   "execution_count": 1,
   "id": "97ca06c8",
   "metadata": {
    "_cell_guid": "b1076dfc-b9ad-4769-8c92-a6c4dae69d19",
    "_uuid": "8f2839f25d086af736a60e9eeb907d3b93b6e0e5",
    "execution": {
     "iopub.execute_input": "2023-07-12T16:19:19.789984Z",
     "iopub.status.busy": "2023-07-12T16:19:19.789627Z",
     "iopub.status.idle": "2023-07-12T16:19:19.806052Z",
     "shell.execute_reply": "2023-07-12T16:19:19.805296Z"
    },
    "papermill": {
     "duration": 0.027653,
     "end_time": "2023-07-12T16:19:19.808431",
     "exception": false,
     "start_time": "2023-07-12T16:19:19.780778",
     "status": "completed"
    },
    "tags": []
   },
   "outputs": [
    {
     "name": "stdout",
     "output_type": "stream",
     "text": [
      "/kaggle/input/creditcardfraud/creditcard.csv\n"
     ]
    }
   ],
   "source": [
    "# This Python 3 environment comes with many helpful analytics libraries installed\n",
    "# It is defined by the kaggle/python Docker image: https://github.com/kaggle/docker-python\n",
    "# For example, here's several helpful packages to load\n",
    "\n",
    "import numpy as np # linear algebra\n",
    "import pandas as pd # data processing, CSV file I/O (e.g. pd.read_csv)\n",
    "\n",
    "# Input data files are available in the read-only \"../input/\" directory\n",
    "# For example, running this (by clicking run or pressing Shift+Enter) will list all files under the input directory\n",
    "\n",
    "import os\n",
    "for dirname, _, filenames in os.walk('/kaggle/input'):\n",
    "    for filename in filenames:\n",
    "        print(os.path.join(dirname, filename))\n",
    "\n",
    "# You can write up to 20GB to the current directory (/kaggle/working/) that gets preserved as output when you create a version using \"Save & Run All\" \n",
    "# You can also write temporary files to /kaggle/temp/, but they won't be saved outside of the current session"
   ]
  },
  {
   "cell_type": "code",
   "execution_count": 2,
   "id": "12a9dabb",
   "metadata": {
    "execution": {
     "iopub.execute_input": "2023-07-12T16:19:19.824141Z",
     "iopub.status.busy": "2023-07-12T16:19:19.823511Z",
     "iopub.status.idle": "2023-07-12T16:19:21.045132Z",
     "shell.execute_reply": "2023-07-12T16:19:21.043988Z"
    },
    "papermill": {
     "duration": 1.231871,
     "end_time": "2023-07-12T16:19:21.047567",
     "exception": false,
     "start_time": "2023-07-12T16:19:19.815696",
     "status": "completed"
    },
    "tags": []
   },
   "outputs": [
    {
     "name": "stderr",
     "output_type": "stream",
     "text": [
      "/opt/conda/lib/python3.10/site-packages/scipy/__init__.py:146: UserWarning: A NumPy version >=1.16.5 and <1.23.0 is required for this version of SciPy (detected version 1.23.5\n",
      "  warnings.warn(f\"A NumPy version >={np_minversion} and <{np_maxversion}\"\n"
     ]
    }
   ],
   "source": [
    "import matplotlib.pyplot as plt\n",
    "from sklearn.model_selection import train_test_split\n",
    "from sklearn.linear_model import LogisticRegression \n",
    "from sklearn.metrics import accuracy_score"
   ]
  },
  {
   "cell_type": "code",
   "execution_count": 3,
   "id": "9097ed54",
   "metadata": {
    "execution": {
     "iopub.execute_input": "2023-07-12T16:19:21.062518Z",
     "iopub.status.busy": "2023-07-12T16:19:21.062129Z",
     "iopub.status.idle": "2023-07-12T16:19:24.989358Z",
     "shell.execute_reply": "2023-07-12T16:19:24.988416Z"
    },
    "papermill": {
     "duration": 3.937343,
     "end_time": "2023-07-12T16:19:24.991716",
     "exception": false,
     "start_time": "2023-07-12T16:19:21.054373",
     "status": "completed"
    },
    "tags": []
   },
   "outputs": [],
   "source": [
    "cf_data=pd.read_csv(\"/kaggle/input/creditcardfraud/creditcard.csv\")"
   ]
  },
  {
   "cell_type": "code",
   "execution_count": 4,
   "id": "f446b46e",
   "metadata": {
    "execution": {
     "iopub.execute_input": "2023-07-12T16:19:25.008003Z",
     "iopub.status.busy": "2023-07-12T16:19:25.006979Z",
     "iopub.status.idle": "2023-07-12T16:19:25.043290Z",
     "shell.execute_reply": "2023-07-12T16:19:25.042490Z"
    },
    "papermill": {
     "duration": 0.046328,
     "end_time": "2023-07-12T16:19:25.045400",
     "exception": false,
     "start_time": "2023-07-12T16:19:24.999072",
     "status": "completed"
    },
    "tags": []
   },
   "outputs": [
    {
     "data": {
      "text/html": [
       "<div>\n",
       "<style scoped>\n",
       "    .dataframe tbody tr th:only-of-type {\n",
       "        vertical-align: middle;\n",
       "    }\n",
       "\n",
       "    .dataframe tbody tr th {\n",
       "        vertical-align: top;\n",
       "    }\n",
       "\n",
       "    .dataframe thead th {\n",
       "        text-align: right;\n",
       "    }\n",
       "</style>\n",
       "<table border=\"1\" class=\"dataframe\">\n",
       "  <thead>\n",
       "    <tr style=\"text-align: right;\">\n",
       "      <th></th>\n",
       "      <th>Time</th>\n",
       "      <th>V1</th>\n",
       "      <th>V2</th>\n",
       "      <th>V3</th>\n",
       "      <th>V4</th>\n",
       "      <th>V5</th>\n",
       "      <th>V6</th>\n",
       "      <th>V7</th>\n",
       "      <th>V8</th>\n",
       "      <th>V9</th>\n",
       "      <th>...</th>\n",
       "      <th>V21</th>\n",
       "      <th>V22</th>\n",
       "      <th>V23</th>\n",
       "      <th>V24</th>\n",
       "      <th>V25</th>\n",
       "      <th>V26</th>\n",
       "      <th>V27</th>\n",
       "      <th>V28</th>\n",
       "      <th>Amount</th>\n",
       "      <th>Class</th>\n",
       "    </tr>\n",
       "  </thead>\n",
       "  <tbody>\n",
       "    <tr>\n",
       "      <th>0</th>\n",
       "      <td>0.0</td>\n",
       "      <td>-1.359807</td>\n",
       "      <td>-0.072781</td>\n",
       "      <td>2.536347</td>\n",
       "      <td>1.378155</td>\n",
       "      <td>-0.338321</td>\n",
       "      <td>0.462388</td>\n",
       "      <td>0.239599</td>\n",
       "      <td>0.098698</td>\n",
       "      <td>0.363787</td>\n",
       "      <td>...</td>\n",
       "      <td>-0.018307</td>\n",
       "      <td>0.277838</td>\n",
       "      <td>-0.110474</td>\n",
       "      <td>0.066928</td>\n",
       "      <td>0.128539</td>\n",
       "      <td>-0.189115</td>\n",
       "      <td>0.133558</td>\n",
       "      <td>-0.021053</td>\n",
       "      <td>149.62</td>\n",
       "      <td>0</td>\n",
       "    </tr>\n",
       "    <tr>\n",
       "      <th>1</th>\n",
       "      <td>0.0</td>\n",
       "      <td>1.191857</td>\n",
       "      <td>0.266151</td>\n",
       "      <td>0.166480</td>\n",
       "      <td>0.448154</td>\n",
       "      <td>0.060018</td>\n",
       "      <td>-0.082361</td>\n",
       "      <td>-0.078803</td>\n",
       "      <td>0.085102</td>\n",
       "      <td>-0.255425</td>\n",
       "      <td>...</td>\n",
       "      <td>-0.225775</td>\n",
       "      <td>-0.638672</td>\n",
       "      <td>0.101288</td>\n",
       "      <td>-0.339846</td>\n",
       "      <td>0.167170</td>\n",
       "      <td>0.125895</td>\n",
       "      <td>-0.008983</td>\n",
       "      <td>0.014724</td>\n",
       "      <td>2.69</td>\n",
       "      <td>0</td>\n",
       "    </tr>\n",
       "    <tr>\n",
       "      <th>2</th>\n",
       "      <td>1.0</td>\n",
       "      <td>-1.358354</td>\n",
       "      <td>-1.340163</td>\n",
       "      <td>1.773209</td>\n",
       "      <td>0.379780</td>\n",
       "      <td>-0.503198</td>\n",
       "      <td>1.800499</td>\n",
       "      <td>0.791461</td>\n",
       "      <td>0.247676</td>\n",
       "      <td>-1.514654</td>\n",
       "      <td>...</td>\n",
       "      <td>0.247998</td>\n",
       "      <td>0.771679</td>\n",
       "      <td>0.909412</td>\n",
       "      <td>-0.689281</td>\n",
       "      <td>-0.327642</td>\n",
       "      <td>-0.139097</td>\n",
       "      <td>-0.055353</td>\n",
       "      <td>-0.059752</td>\n",
       "      <td>378.66</td>\n",
       "      <td>0</td>\n",
       "    </tr>\n",
       "    <tr>\n",
       "      <th>3</th>\n",
       "      <td>1.0</td>\n",
       "      <td>-0.966272</td>\n",
       "      <td>-0.185226</td>\n",
       "      <td>1.792993</td>\n",
       "      <td>-0.863291</td>\n",
       "      <td>-0.010309</td>\n",
       "      <td>1.247203</td>\n",
       "      <td>0.237609</td>\n",
       "      <td>0.377436</td>\n",
       "      <td>-1.387024</td>\n",
       "      <td>...</td>\n",
       "      <td>-0.108300</td>\n",
       "      <td>0.005274</td>\n",
       "      <td>-0.190321</td>\n",
       "      <td>-1.175575</td>\n",
       "      <td>0.647376</td>\n",
       "      <td>-0.221929</td>\n",
       "      <td>0.062723</td>\n",
       "      <td>0.061458</td>\n",
       "      <td>123.50</td>\n",
       "      <td>0</td>\n",
       "    </tr>\n",
       "    <tr>\n",
       "      <th>4</th>\n",
       "      <td>2.0</td>\n",
       "      <td>-1.158233</td>\n",
       "      <td>0.877737</td>\n",
       "      <td>1.548718</td>\n",
       "      <td>0.403034</td>\n",
       "      <td>-0.407193</td>\n",
       "      <td>0.095921</td>\n",
       "      <td>0.592941</td>\n",
       "      <td>-0.270533</td>\n",
       "      <td>0.817739</td>\n",
       "      <td>...</td>\n",
       "      <td>-0.009431</td>\n",
       "      <td>0.798278</td>\n",
       "      <td>-0.137458</td>\n",
       "      <td>0.141267</td>\n",
       "      <td>-0.206010</td>\n",
       "      <td>0.502292</td>\n",
       "      <td>0.219422</td>\n",
       "      <td>0.215153</td>\n",
       "      <td>69.99</td>\n",
       "      <td>0</td>\n",
       "    </tr>\n",
       "  </tbody>\n",
       "</table>\n",
       "<p>5 rows × 31 columns</p>\n",
       "</div>"
      ],
      "text/plain": [
       "   Time        V1        V2        V3        V4        V5        V6        V7  \\\n",
       "0   0.0 -1.359807 -0.072781  2.536347  1.378155 -0.338321  0.462388  0.239599   \n",
       "1   0.0  1.191857  0.266151  0.166480  0.448154  0.060018 -0.082361 -0.078803   \n",
       "2   1.0 -1.358354 -1.340163  1.773209  0.379780 -0.503198  1.800499  0.791461   \n",
       "3   1.0 -0.966272 -0.185226  1.792993 -0.863291 -0.010309  1.247203  0.237609   \n",
       "4   2.0 -1.158233  0.877737  1.548718  0.403034 -0.407193  0.095921  0.592941   \n",
       "\n",
       "         V8        V9  ...       V21       V22       V23       V24       V25  \\\n",
       "0  0.098698  0.363787  ... -0.018307  0.277838 -0.110474  0.066928  0.128539   \n",
       "1  0.085102 -0.255425  ... -0.225775 -0.638672  0.101288 -0.339846  0.167170   \n",
       "2  0.247676 -1.514654  ...  0.247998  0.771679  0.909412 -0.689281 -0.327642   \n",
       "3  0.377436 -1.387024  ... -0.108300  0.005274 -0.190321 -1.175575  0.647376   \n",
       "4 -0.270533  0.817739  ... -0.009431  0.798278 -0.137458  0.141267 -0.206010   \n",
       "\n",
       "        V26       V27       V28  Amount  Class  \n",
       "0 -0.189115  0.133558 -0.021053  149.62      0  \n",
       "1  0.125895 -0.008983  0.014724    2.69      0  \n",
       "2 -0.139097 -0.055353 -0.059752  378.66      0  \n",
       "3 -0.221929  0.062723  0.061458  123.50      0  \n",
       "4  0.502292  0.219422  0.215153   69.99      0  \n",
       "\n",
       "[5 rows x 31 columns]"
      ]
     },
     "execution_count": 4,
     "metadata": {},
     "output_type": "execute_result"
    }
   ],
   "source": [
    "cf_data.head()"
   ]
  },
  {
   "cell_type": "code",
   "execution_count": 5,
   "id": "535bb560",
   "metadata": {
    "execution": {
     "iopub.execute_input": "2023-07-12T16:19:25.061119Z",
     "iopub.status.busy": "2023-07-12T16:19:25.060764Z",
     "iopub.status.idle": "2023-07-12T16:19:25.067022Z",
     "shell.execute_reply": "2023-07-12T16:19:25.066059Z"
    },
    "papermill": {
     "duration": 0.01691,
     "end_time": "2023-07-12T16:19:25.069438",
     "exception": false,
     "start_time": "2023-07-12T16:19:25.052528",
     "status": "completed"
    },
    "tags": []
   },
   "outputs": [
    {
     "data": {
      "text/plain": [
       "(284807, 31)"
      ]
     },
     "execution_count": 5,
     "metadata": {},
     "output_type": "execute_result"
    }
   ],
   "source": [
    "cf_data.shape"
   ]
  },
  {
   "cell_type": "code",
   "execution_count": 6,
   "id": "c880d40b",
   "metadata": {
    "execution": {
     "iopub.execute_input": "2023-07-12T16:19:25.086209Z",
     "iopub.status.busy": "2023-07-12T16:19:25.085558Z",
     "iopub.status.idle": "2023-07-12T16:19:25.101033Z",
     "shell.execute_reply": "2023-07-12T16:19:25.100181Z"
    },
    "papermill": {
     "duration": 0.026518,
     "end_time": "2023-07-12T16:19:25.103225",
     "exception": false,
     "start_time": "2023-07-12T16:19:25.076707",
     "status": "completed"
    },
    "tags": []
   },
   "outputs": [
    {
     "data": {
      "text/plain": [
       "0    284315\n",
       "1       492\n",
       "Name: Class, dtype: int64"
      ]
     },
     "execution_count": 6,
     "metadata": {},
     "output_type": "execute_result"
    }
   ],
   "source": [
    "cf_data.Class.value_counts()"
   ]
  },
  {
   "cell_type": "code",
   "execution_count": 7,
   "id": "aa3105ad",
   "metadata": {
    "execution": {
     "iopub.execute_input": "2023-07-12T16:19:25.119887Z",
     "iopub.status.busy": "2023-07-12T16:19:25.119199Z",
     "iopub.status.idle": "2023-07-12T16:19:25.173094Z",
     "shell.execute_reply": "2023-07-12T16:19:25.172150Z"
    },
    "papermill": {
     "duration": 0.064981,
     "end_time": "2023-07-12T16:19:25.175706",
     "exception": false,
     "start_time": "2023-07-12T16:19:25.110725",
     "status": "completed"
    },
    "tags": []
   },
   "outputs": [],
   "source": [
    "normal=cf_data[cf_data.Class==0]\n",
    "fraud=cf_data[cf_data.Class==1]"
   ]
  },
  {
   "cell_type": "code",
   "execution_count": 8,
   "id": "dbeddd03",
   "metadata": {
    "execution": {
     "iopub.execute_input": "2023-07-12T16:19:25.193968Z",
     "iopub.status.busy": "2023-07-12T16:19:25.193630Z",
     "iopub.status.idle": "2023-07-12T16:19:25.258802Z",
     "shell.execute_reply": "2023-07-12T16:19:25.257726Z"
    },
    "papermill": {
     "duration": 0.078383,
     "end_time": "2023-07-12T16:19:25.261799",
     "exception": false,
     "start_time": "2023-07-12T16:19:25.183416",
     "status": "completed"
    },
    "tags": []
   },
   "outputs": [
    {
     "name": "stdout",
     "output_type": "stream",
     "text": [
      "            Time         V1         V2        V3        V4        V5  \\\n",
      "0            0.0  -1.359807  -0.072781  2.536347  1.378155 -0.338321   \n",
      "1            0.0   1.191857   0.266151  0.166480  0.448154  0.060018   \n",
      "2            1.0  -1.358354  -1.340163  1.773209  0.379780 -0.503198   \n",
      "3            1.0  -0.966272  -0.185226  1.792993 -0.863291 -0.010309   \n",
      "4            2.0  -1.158233   0.877737  1.548718  0.403034 -0.407193   \n",
      "...          ...        ...        ...       ...       ...       ...   \n",
      "284802  172786.0 -11.881118  10.071785 -9.834783 -2.066656 -5.364473   \n",
      "284803  172787.0  -0.732789  -0.055080  2.035030 -0.738589  0.868229   \n",
      "284804  172788.0   1.919565  -0.301254 -3.249640 -0.557828  2.630515   \n",
      "284805  172788.0  -0.240440   0.530483  0.702510  0.689799 -0.377961   \n",
      "284806  172792.0  -0.533413  -0.189733  0.703337 -0.506271 -0.012546   \n",
      "\n",
      "              V6        V7        V8        V9  ...       V21       V22  \\\n",
      "0       0.462388  0.239599  0.098698  0.363787  ... -0.018307  0.277838   \n",
      "1      -0.082361 -0.078803  0.085102 -0.255425  ... -0.225775 -0.638672   \n",
      "2       1.800499  0.791461  0.247676 -1.514654  ...  0.247998  0.771679   \n",
      "3       1.247203  0.237609  0.377436 -1.387024  ... -0.108300  0.005274   \n",
      "4       0.095921  0.592941 -0.270533  0.817739  ... -0.009431  0.798278   \n",
      "...          ...       ...       ...       ...  ...       ...       ...   \n",
      "284802 -2.606837 -4.918215  7.305334  1.914428  ...  0.213454  0.111864   \n",
      "284803  1.058415  0.024330  0.294869  0.584800  ...  0.214205  0.924384   \n",
      "284804  3.031260 -0.296827  0.708417  0.432454  ...  0.232045  0.578229   \n",
      "284805  0.623708 -0.686180  0.679145  0.392087  ...  0.265245  0.800049   \n",
      "284806 -0.649617  1.577006 -0.414650  0.486180  ...  0.261057  0.643078   \n",
      "\n",
      "             V23       V24       V25       V26       V27       V28  Amount  \\\n",
      "0      -0.110474  0.066928  0.128539 -0.189115  0.133558 -0.021053  149.62   \n",
      "1       0.101288 -0.339846  0.167170  0.125895 -0.008983  0.014724    2.69   \n",
      "2       0.909412 -0.689281 -0.327642 -0.139097 -0.055353 -0.059752  378.66   \n",
      "3      -0.190321 -1.175575  0.647376 -0.221929  0.062723  0.061458  123.50   \n",
      "4      -0.137458  0.141267 -0.206010  0.502292  0.219422  0.215153   69.99   \n",
      "...          ...       ...       ...       ...       ...       ...     ...   \n",
      "284802  1.014480 -0.509348  1.436807  0.250034  0.943651  0.823731    0.77   \n",
      "284803  0.012463 -1.016226 -0.606624 -0.395255  0.068472 -0.053527   24.79   \n",
      "284804 -0.037501  0.640134  0.265745 -0.087371  0.004455 -0.026561   67.88   \n",
      "284805 -0.163298  0.123205 -0.569159  0.546668  0.108821  0.104533   10.00   \n",
      "284806  0.376777  0.008797 -0.473649 -0.818267 -0.002415  0.013649  217.00   \n",
      "\n",
      "        Class  \n",
      "0           0  \n",
      "1           0  \n",
      "2           0  \n",
      "3           0  \n",
      "4           0  \n",
      "...       ...  \n",
      "284802      0  \n",
      "284803      0  \n",
      "284804      0  \n",
      "284805      0  \n",
      "284806      0  \n",
      "\n",
      "[284315 rows x 31 columns]\n",
      "            Time        V1        V2        V3        V4        V5        V6  \\\n",
      "541        406.0 -2.312227  1.951992 -1.609851  3.997906 -0.522188 -1.426545   \n",
      "623        472.0 -3.043541 -3.157307  1.088463  2.288644  1.359805 -1.064823   \n",
      "4920      4462.0 -2.303350  1.759247 -0.359745  2.330243 -0.821628 -0.075788   \n",
      "6108      6986.0 -4.397974  1.358367 -2.592844  2.679787 -1.128131 -1.706536   \n",
      "6329      7519.0  1.234235  3.019740 -4.304597  4.732795  3.624201 -1.357746   \n",
      "...          ...       ...       ...       ...       ...       ...       ...   \n",
      "279863  169142.0 -1.927883  1.125653 -4.518331  1.749293 -1.566487 -2.010494   \n",
      "280143  169347.0  1.378559  1.289381 -5.004247  1.411850  0.442581 -1.326536   \n",
      "280149  169351.0 -0.676143  1.126366 -2.213700  0.468308 -1.120541 -0.003346   \n",
      "281144  169966.0 -3.113832  0.585864 -5.399730  1.817092 -0.840618 -2.943548   \n",
      "281674  170348.0  1.991976  0.158476 -2.583441  0.408670  1.151147 -0.096695   \n",
      "\n",
      "              V7        V8        V9  ...       V21       V22       V23  \\\n",
      "541    -2.537387  1.391657 -2.770089  ...  0.517232 -0.035049 -0.465211   \n",
      "623     0.325574 -0.067794 -0.270953  ...  0.661696  0.435477  1.375966   \n",
      "4920    0.562320 -0.399147 -0.238253  ... -0.294166 -0.932391  0.172726   \n",
      "6108   -3.496197 -0.248778 -0.247768  ...  0.573574  0.176968 -0.436207   \n",
      "6329    1.713445 -0.496358 -1.282858  ... -0.379068 -0.704181 -0.656805   \n",
      "...          ...       ...       ...  ...       ...       ...       ...   \n",
      "279863 -0.882850  0.697211 -2.064945  ...  0.778584 -0.319189  0.639419   \n",
      "280143 -1.413170  0.248525 -1.127396  ...  0.370612  0.028234 -0.145640   \n",
      "280149 -2.234739  1.210158 -0.652250  ...  0.751826  0.834108  0.190944   \n",
      "281144 -2.208002  1.058733 -1.632333  ...  0.583276 -0.269209 -0.456108   \n",
      "281674  0.223050 -0.068384  0.577829  ... -0.164350 -0.295135 -0.072173   \n",
      "\n",
      "             V24       V25       V26       V27       V28  Amount  Class  \n",
      "541     0.320198  0.044519  0.177840  0.261145 -0.143276    0.00      1  \n",
      "623    -0.293803  0.279798 -0.145362 -0.252773  0.035764  529.00      1  \n",
      "4920   -0.087330 -0.156114 -0.542628  0.039566 -0.153029  239.93      1  \n",
      "6108   -0.053502  0.252405 -0.657488 -0.827136  0.849573   59.00      1  \n",
      "6329   -1.632653  1.488901  0.566797 -0.010016  0.146793    1.00      1  \n",
      "...          ...       ...       ...       ...       ...     ...    ...  \n",
      "279863 -0.294885  0.537503  0.788395  0.292680  0.147968  390.00      1  \n",
      "280143 -0.081049  0.521875  0.739467  0.389152  0.186637    0.76      1  \n",
      "280149  0.032070 -0.739695  0.471111  0.385107  0.194361   77.89      1  \n",
      "281144 -0.183659 -0.328168  0.606116  0.884876 -0.253700  245.00      1  \n",
      "281674 -0.450261  0.313267 -0.289617  0.002988 -0.015309   42.53      1  \n",
      "\n",
      "[492 rows x 31 columns]\n"
     ]
    }
   ],
   "source": [
    "print(normal)\n",
    "print(fraud)"
   ]
  },
  {
   "cell_type": "code",
   "execution_count": 9,
   "id": "7182be09",
   "metadata": {
    "execution": {
     "iopub.execute_input": "2023-07-12T16:19:25.278068Z",
     "iopub.status.busy": "2023-07-12T16:19:25.277721Z",
     "iopub.status.idle": "2023-07-12T16:19:25.289332Z",
     "shell.execute_reply": "2023-07-12T16:19:25.288583Z"
    },
    "papermill": {
     "duration": 0.022045,
     "end_time": "2023-07-12T16:19:25.291405",
     "exception": false,
     "start_time": "2023-07-12T16:19:25.269360",
     "status": "completed"
    },
    "tags": []
   },
   "outputs": [],
   "source": [
    "legit_sample=normal.sample(n=492)"
   ]
  },
  {
   "cell_type": "code",
   "execution_count": 10,
   "id": "40a33d40",
   "metadata": {
    "execution": {
     "iopub.execute_input": "2023-07-12T16:19:25.309935Z",
     "iopub.status.busy": "2023-07-12T16:19:25.309053Z",
     "iopub.status.idle": "2023-07-12T16:19:25.314178Z",
     "shell.execute_reply": "2023-07-12T16:19:25.313492Z"
    },
    "papermill": {
     "duration": 0.015835,
     "end_time": "2023-07-12T16:19:25.316133",
     "exception": false,
     "start_time": "2023-07-12T16:19:25.300298",
     "status": "completed"
    },
    "tags": []
   },
   "outputs": [],
   "source": [
    "new_data=pd.concat([legit_sample,fraud],axis=0)"
   ]
  },
  {
   "cell_type": "code",
   "execution_count": 11,
   "id": "240f3739",
   "metadata": {
    "execution": {
     "iopub.execute_input": "2023-07-12T16:19:25.332928Z",
     "iopub.status.busy": "2023-07-12T16:19:25.332156Z",
     "iopub.status.idle": "2023-07-12T16:19:25.337338Z",
     "shell.execute_reply": "2023-07-12T16:19:25.336667Z"
    },
    "papermill": {
     "duration": 0.015451,
     "end_time": "2023-07-12T16:19:25.339278",
     "exception": false,
     "start_time": "2023-07-12T16:19:25.323827",
     "status": "completed"
    },
    "tags": []
   },
   "outputs": [
    {
     "data": {
      "text/plain": [
       "(984, 31)"
      ]
     },
     "execution_count": 11,
     "metadata": {},
     "output_type": "execute_result"
    }
   ],
   "source": [
    "new_data.shape"
   ]
  },
  {
   "cell_type": "code",
   "execution_count": 12,
   "id": "8552dbaa",
   "metadata": {
    "execution": {
     "iopub.execute_input": "2023-07-12T16:19:25.356601Z",
     "iopub.status.busy": "2023-07-12T16:19:25.355992Z",
     "iopub.status.idle": "2023-07-12T16:19:25.363135Z",
     "shell.execute_reply": "2023-07-12T16:19:25.362260Z"
    },
    "papermill": {
     "duration": 0.017978,
     "end_time": "2023-07-12T16:19:25.365135",
     "exception": false,
     "start_time": "2023-07-12T16:19:25.347157",
     "status": "completed"
    },
    "tags": []
   },
   "outputs": [
    {
     "data": {
      "text/plain": [
       "0    492\n",
       "1    492\n",
       "Name: Class, dtype: int64"
      ]
     },
     "execution_count": 12,
     "metadata": {},
     "output_type": "execute_result"
    }
   ],
   "source": [
    "new_data.Class.value_counts()"
   ]
  },
  {
   "cell_type": "code",
   "execution_count": 13,
   "id": "93672bf3",
   "metadata": {
    "execution": {
     "iopub.execute_input": "2023-07-12T16:19:25.381760Z",
     "iopub.status.busy": "2023-07-12T16:19:25.381420Z",
     "iopub.status.idle": "2023-07-12T16:19:25.388029Z",
     "shell.execute_reply": "2023-07-12T16:19:25.387025Z"
    },
    "papermill": {
     "duration": 0.01722,
     "end_time": "2023-07-12T16:19:25.390009",
     "exception": false,
     "start_time": "2023-07-12T16:19:25.372789",
     "status": "completed"
    },
    "tags": []
   },
   "outputs": [],
   "source": [
    "X=new_data.drop(columns='Class',axis=1)\n",
    "Y=new_data['Class']"
   ]
  },
  {
   "cell_type": "code",
   "execution_count": 14,
   "id": "d8fc936b",
   "metadata": {
    "execution": {
     "iopub.execute_input": "2023-07-12T16:19:25.408616Z",
     "iopub.status.busy": "2023-07-12T16:19:25.407630Z",
     "iopub.status.idle": "2023-07-12T16:19:25.413108Z",
     "shell.execute_reply": "2023-07-12T16:19:25.412170Z"
    },
    "papermill": {
     "duration": 0.017534,
     "end_time": "2023-07-12T16:19:25.415131",
     "exception": false,
     "start_time": "2023-07-12T16:19:25.397597",
     "status": "completed"
    },
    "tags": []
   },
   "outputs": [
    {
     "name": "stdout",
     "output_type": "stream",
     "text": [
      "(984, 30) (984,)\n"
     ]
    }
   ],
   "source": [
    "print(X.shape,Y.shape)"
   ]
  },
  {
   "cell_type": "code",
   "execution_count": 15,
   "id": "32536b7f",
   "metadata": {
    "execution": {
     "iopub.execute_input": "2023-07-12T16:19:25.432568Z",
     "iopub.status.busy": "2023-07-12T16:19:25.432169Z",
     "iopub.status.idle": "2023-07-12T16:19:25.441600Z",
     "shell.execute_reply": "2023-07-12T16:19:25.440889Z"
    },
    "papermill": {
     "duration": 0.020578,
     "end_time": "2023-07-12T16:19:25.443690",
     "exception": false,
     "start_time": "2023-07-12T16:19:25.423112",
     "status": "completed"
    },
    "tags": []
   },
   "outputs": [],
   "source": [
    "X_train,X_test,Y_train,Y_test=train_test_split(X,Y,test_size=0.3,stratify=Y,random_state=42)"
   ]
  },
  {
   "cell_type": "code",
   "execution_count": 16,
   "id": "c77a9f41",
   "metadata": {
    "execution": {
     "iopub.execute_input": "2023-07-12T16:19:25.462163Z",
     "iopub.status.busy": "2023-07-12T16:19:25.461505Z",
     "iopub.status.idle": "2023-07-12T16:19:25.527288Z",
     "shell.execute_reply": "2023-07-12T16:19:25.525939Z"
    },
    "papermill": {
     "duration": 0.079104,
     "end_time": "2023-07-12T16:19:25.530958",
     "exception": false,
     "start_time": "2023-07-12T16:19:25.451854",
     "status": "completed"
    },
    "tags": []
   },
   "outputs": [
    {
     "data": {
      "text/html": [
       "<style>#sk-container-id-1 {color: black;background-color: white;}#sk-container-id-1 pre{padding: 0;}#sk-container-id-1 div.sk-toggleable {background-color: white;}#sk-container-id-1 label.sk-toggleable__label {cursor: pointer;display: block;width: 100%;margin-bottom: 0;padding: 0.3em;box-sizing: border-box;text-align: center;}#sk-container-id-1 label.sk-toggleable__label-arrow:before {content: \"▸\";float: left;margin-right: 0.25em;color: #696969;}#sk-container-id-1 label.sk-toggleable__label-arrow:hover:before {color: black;}#sk-container-id-1 div.sk-estimator:hover label.sk-toggleable__label-arrow:before {color: black;}#sk-container-id-1 div.sk-toggleable__content {max-height: 0;max-width: 0;overflow: hidden;text-align: left;background-color: #f0f8ff;}#sk-container-id-1 div.sk-toggleable__content pre {margin: 0.2em;color: black;border-radius: 0.25em;background-color: #f0f8ff;}#sk-container-id-1 input.sk-toggleable__control:checked~div.sk-toggleable__content {max-height: 200px;max-width: 100%;overflow: auto;}#sk-container-id-1 input.sk-toggleable__control:checked~label.sk-toggleable__label-arrow:before {content: \"▾\";}#sk-container-id-1 div.sk-estimator input.sk-toggleable__control:checked~label.sk-toggleable__label {background-color: #d4ebff;}#sk-container-id-1 div.sk-label input.sk-toggleable__control:checked~label.sk-toggleable__label {background-color: #d4ebff;}#sk-container-id-1 input.sk-hidden--visually {border: 0;clip: rect(1px 1px 1px 1px);clip: rect(1px, 1px, 1px, 1px);height: 1px;margin: -1px;overflow: hidden;padding: 0;position: absolute;width: 1px;}#sk-container-id-1 div.sk-estimator {font-family: monospace;background-color: #f0f8ff;border: 1px dotted black;border-radius: 0.25em;box-sizing: border-box;margin-bottom: 0.5em;}#sk-container-id-1 div.sk-estimator:hover {background-color: #d4ebff;}#sk-container-id-1 div.sk-parallel-item::after {content: \"\";width: 100%;border-bottom: 1px solid gray;flex-grow: 1;}#sk-container-id-1 div.sk-label:hover label.sk-toggleable__label {background-color: #d4ebff;}#sk-container-id-1 div.sk-serial::before {content: \"\";position: absolute;border-left: 1px solid gray;box-sizing: border-box;top: 0;bottom: 0;left: 50%;z-index: 0;}#sk-container-id-1 div.sk-serial {display: flex;flex-direction: column;align-items: center;background-color: white;padding-right: 0.2em;padding-left: 0.2em;position: relative;}#sk-container-id-1 div.sk-item {position: relative;z-index: 1;}#sk-container-id-1 div.sk-parallel {display: flex;align-items: stretch;justify-content: center;background-color: white;position: relative;}#sk-container-id-1 div.sk-item::before, #sk-container-id-1 div.sk-parallel-item::before {content: \"\";position: absolute;border-left: 1px solid gray;box-sizing: border-box;top: 0;bottom: 0;left: 50%;z-index: -1;}#sk-container-id-1 div.sk-parallel-item {display: flex;flex-direction: column;z-index: 1;position: relative;background-color: white;}#sk-container-id-1 div.sk-parallel-item:first-child::after {align-self: flex-end;width: 50%;}#sk-container-id-1 div.sk-parallel-item:last-child::after {align-self: flex-start;width: 50%;}#sk-container-id-1 div.sk-parallel-item:only-child::after {width: 0;}#sk-container-id-1 div.sk-dashed-wrapped {border: 1px dashed gray;margin: 0 0.4em 0.5em 0.4em;box-sizing: border-box;padding-bottom: 0.4em;background-color: white;}#sk-container-id-1 div.sk-label label {font-family: monospace;font-weight: bold;display: inline-block;line-height: 1.2em;}#sk-container-id-1 div.sk-label-container {text-align: center;}#sk-container-id-1 div.sk-container {/* jupyter's `normalize.less` sets `[hidden] { display: none; }` but bootstrap.min.css set `[hidden] { display: none !important; }` so we also need the `!important` here to be able to override the default hidden behavior on the sphinx rendered scikit-learn.org. See: https://github.com/scikit-learn/scikit-learn/issues/21755 */display: inline-block !important;position: relative;}#sk-container-id-1 div.sk-text-repr-fallback {display: none;}</style><div id=\"sk-container-id-1\" class=\"sk-top-container\"><div class=\"sk-text-repr-fallback\"><pre>LogisticRegression()</pre><b>In a Jupyter environment, please rerun this cell to show the HTML representation or trust the notebook. <br />On GitHub, the HTML representation is unable to render, please try loading this page with nbviewer.org.</b></div><div class=\"sk-container\" hidden><div class=\"sk-item\"><div class=\"sk-estimator sk-toggleable\"><input class=\"sk-toggleable__control sk-hidden--visually\" id=\"sk-estimator-id-1\" type=\"checkbox\" checked><label for=\"sk-estimator-id-1\" class=\"sk-toggleable__label sk-toggleable__label-arrow\">LogisticRegression</label><div class=\"sk-toggleable__content\"><pre>LogisticRegression()</pre></div></div></div></div></div>"
      ],
      "text/plain": [
       "LogisticRegression()"
      ]
     },
     "execution_count": 16,
     "metadata": {},
     "output_type": "execute_result"
    }
   ],
   "source": [
    "model=LogisticRegression()\n",
    "model.fit(X_train,Y_train)"
   ]
  },
  {
   "cell_type": "code",
   "execution_count": 17,
   "id": "1c1b4305",
   "metadata": {
    "execution": {
     "iopub.execute_input": "2023-07-12T16:19:25.567876Z",
     "iopub.status.busy": "2023-07-12T16:19:25.567215Z",
     "iopub.status.idle": "2023-07-12T16:19:25.582868Z",
     "shell.execute_reply": "2023-07-12T16:19:25.581476Z"
    },
    "papermill": {
     "duration": 0.038355,
     "end_time": "2023-07-12T16:19:25.586704",
     "exception": false,
     "start_time": "2023-07-12T16:19:25.548349",
     "status": "completed"
    },
    "tags": []
   },
   "outputs": [],
   "source": [
    "X_train_prediction=model.predict(X_train)\n",
    "training_data_accuracy=accuracy_score(X_train_prediction,Y_train)"
   ]
  },
  {
   "cell_type": "code",
   "execution_count": 18,
   "id": "0926592a",
   "metadata": {
    "execution": {
     "iopub.execute_input": "2023-07-12T16:19:25.623668Z",
     "iopub.status.busy": "2023-07-12T16:19:25.623045Z",
     "iopub.status.idle": "2023-07-12T16:19:25.630809Z",
     "shell.execute_reply": "2023-07-12T16:19:25.629511Z"
    },
    "papermill": {
     "duration": 0.032949,
     "end_time": "2023-07-12T16:19:25.636987",
     "exception": false,
     "start_time": "2023-07-12T16:19:25.604038",
     "status": "completed"
    },
    "tags": []
   },
   "outputs": [
    {
     "name": "stdout",
     "output_type": "stream",
     "text": [
      "93.895349%\n"
     ]
    }
   ],
   "source": [
    "print(\"{0:2f}%\".format(training_data_accuracy*100))"
   ]
  },
  {
   "cell_type": "code",
   "execution_count": 19,
   "id": "832bb145",
   "metadata": {
    "execution": {
     "iopub.execute_input": "2023-07-12T16:19:25.674598Z",
     "iopub.status.busy": "2023-07-12T16:19:25.673978Z",
     "iopub.status.idle": "2023-07-12T16:19:25.686377Z",
     "shell.execute_reply": "2023-07-12T16:19:25.685058Z"
    },
    "papermill": {
     "duration": 0.03509,
     "end_time": "2023-07-12T16:19:25.689982",
     "exception": false,
     "start_time": "2023-07-12T16:19:25.654892",
     "status": "completed"
    },
    "tags": []
   },
   "outputs": [],
   "source": [
    "X_test_predict=model.predict(X_test)\n",
    "testing_data_accuracy=accuracy_score(X_test_predict,Y_test)"
   ]
  },
  {
   "cell_type": "code",
   "execution_count": 20,
   "id": "c115cc84",
   "metadata": {
    "execution": {
     "iopub.execute_input": "2023-07-12T16:19:25.711511Z",
     "iopub.status.busy": "2023-07-12T16:19:25.711154Z",
     "iopub.status.idle": "2023-07-12T16:19:25.716203Z",
     "shell.execute_reply": "2023-07-12T16:19:25.715172Z"
    },
    "papermill": {
     "duration": 0.017475,
     "end_time": "2023-07-12T16:19:25.719479",
     "exception": false,
     "start_time": "2023-07-12T16:19:25.702004",
     "status": "completed"
    },
    "tags": []
   },
   "outputs": [
    {
     "name": "stdout",
     "output_type": "stream",
     "text": [
      "92.905405%\n"
     ]
    }
   ],
   "source": [
    "print(\"{0:2f}%\".format(testing_data_accuracy*100))"
   ]
  }
 ],
 "metadata": {
  "kernelspec": {
   "display_name": "Python 3",
   "language": "python",
   "name": "python3"
  },
  "language_info": {
   "codemirror_mode": {
    "name": "ipython",
    "version": 3
   },
   "file_extension": ".py",
   "mimetype": "text/x-python",
   "name": "python",
   "nbconvert_exporter": "python",
   "pygments_lexer": "ipython3",
   "version": "3.10.12"
  },
  "papermill": {
   "default_parameters": {},
   "duration": 17.113885,
   "end_time": "2023-07-12T16:19:26.547434",
   "environment_variables": {},
   "exception": null,
   "input_path": "__notebook__.ipynb",
   "output_path": "__notebook__.ipynb",
   "parameters": {},
   "start_time": "2023-07-12T16:19:09.433549",
   "version": "2.4.0"
  }
 },
 "nbformat": 4,
 "nbformat_minor": 5
}
